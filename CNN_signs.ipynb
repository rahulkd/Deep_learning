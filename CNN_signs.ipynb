{
  "nbformat": 4,
  "nbformat_minor": 0,
  "metadata": {
    "colab": {
      "name": "CNN_signs.ipynb",
      "version": "0.3.2",
      "provenance": [],
      "collapsed_sections": [],
      "include_colab_link": true
    },
    "kernelspec": {
      "name": "python3",
      "display_name": "Python 3"
    }
  },
  "cells": [
    {
      "cell_type": "markdown",
      "metadata": {
        "id": "view-in-github",
        "colab_type": "text"
      },
      "source": [
        "<a href=\"https://colab.research.google.com/github/rahulkd/Deep_learning/blob/master/CNN_signs.ipynb\" target=\"_parent\"><img src=\"https://colab.research.google.com/assets/colab-badge.svg\" alt=\"Open In Colab\"/></a>"
      ]
    },
    {
      "metadata": {
        "id": "kJhN-KM8eozx",
        "colab_type": "code",
        "colab": {}
      },
      "cell_type": "code",
      "source": [
        "import h5py\n",
        "import tensorflow as tf\n",
        "import matplotlib.pyplot as plt\n",
        "import numpy as np\n",
        "import math\n",
        "\n",
        "from tensorflow.python.framework import ops"
      ],
      "execution_count": 0,
      "outputs": []
    },
    {
      "metadata": {
        "id": "xCGe5JEo8uZO",
        "colab_type": "code",
        "colab": {}
      },
      "cell_type": "code",
      "source": [
        "device_name = tf.test.gpu_device_name()\n",
        "if device_name != '/device:GPU:0':\n",
        "  raise SystemError('GPU device not found')\n",
        "print('Found GPU at: {}'.format(device_name))"
      ],
      "execution_count": 0,
      "outputs": []
    },
    {
      "metadata": {
        "id": "0MhsGGQHe6lG",
        "colab_type": "code",
        "colab": {}
      },
      "cell_type": "code",
      "source": [
        "def read_dataset():\n",
        "    \n",
        "    train_dataset = h5py.File('train_signs.h5', \"r\")\n",
        "\n",
        "    ## Load training data =========================\n",
        "    \n",
        "    # your train set features\n",
        "    train_set_x_orig = np.array(train_dataset[\"train_set_x\"])[:]\n",
        "    # Your train set labels\n",
        "    train_set_y_orig = np.array(train_dataset[\"train_set_y\"][:])  \n",
        "    \n",
        "    print(train_set_x_orig.shape)\n",
        "    print(train_set_y_orig.shape)   \n",
        "    # rank 1 array (209,) need to reshape to (1,209)\n",
        "    \n",
        "    ## Load test data ==============================\n",
        "    \n",
        "    test_dataset = h5py.File('test_signs.h5', \"r\")\n",
        "    test_set_x_orig = np.array(test_dataset[\"test_set_x\"][:])  \n",
        "    test_set_y_orig = np.array(test_dataset[\"test_set_y\"][:])  \n",
        "    \n",
        "    print(test_set_x_orig.shape)\n",
        "    print(test_set_y_orig.shape)\n",
        "    \n",
        "    return (train_set_x_orig,train_set_y_orig,test_set_x_orig,test_set_y_orig)"
      ],
      "execution_count": 0,
      "outputs": []
    },
    {
      "metadata": {
        "id": "QS_2G578c4hQ",
        "colab_type": "code",
        "colab": {}
      },
      "cell_type": "code",
      "source": [
        "def convert_to_one_hot(labels,C):\n",
        "\n",
        "    #C = tf.constant(C)\n",
        "    one_hot_matrix = tf.one_hot(labels, C, axis=1)\n",
        "\n",
        "    # Create the session\n",
        "    sess = tf.Session()\n",
        "    # Run the session\n",
        "    one_hot = sess.run(one_hot_matrix)\n",
        "    sess.close()\n",
        "\n",
        "    return one_hot"
      ],
      "execution_count": 0,
      "outputs": []
    },
    {
      "metadata": {
        "id": "9Cv8MFr6dWCD",
        "colab_type": "code",
        "colab": {}
      },
      "cell_type": "code",
      "source": [
        "def random_mini_batches(X, Y, mini_batch_size):\n",
        "    \n",
        "    m = X.shape[0]                # number of training examples\n",
        "    mini_batches = []\n",
        "    #np.random.seed(seed)\n",
        "    \n",
        "    # Step 1: Shuffle (X, Y)\n",
        "    permutation = list(np.random.permutation(m))\n",
        "    shuffled_X = X[permutation,:]\n",
        "    shuffled_Y = Y[permutation,:]\n",
        "\n",
        "    # Step 2: Partition (shuffled_X, shuffled_Y). Minus the end case.\n",
        "    num_complete_minibatches = math.floor(m/mini_batch_size)\n",
        "    # number of mini batches of size mini_batch_size in your partitionning\n",
        "    for k in range(0, num_complete_minibatches):\n",
        "        mini_batch_X = shuffled_X[k * mini_batch_size : k * mini_batch_size + mini_batch_size,:]\n",
        "        mini_batch_Y = shuffled_Y[k * mini_batch_size : k * mini_batch_size + mini_batch_size,:]\n",
        "        mini_batch = (mini_batch_X, mini_batch_Y)\n",
        "        mini_batches.append(mini_batch)\n",
        "    \n",
        "    # Handling the end case (last mini-batch < mini_batch_size)\n",
        "    if m % mini_batch_size != 0:\n",
        "        mini_batch_X = shuffled_X[num_complete_minibatches * mini_batch_size : m,:]\n",
        "        mini_batch_Y = shuffled_Y[num_complete_minibatches * mini_batch_size : m,:]\n",
        "        mini_batch = (mini_batch_X, mini_batch_Y)\n",
        "        mini_batches.append(mini_batch)\n",
        "    \n",
        "    return mini_batches\n"
      ],
      "execution_count": 0,
      "outputs": []
    },
    {
      "metadata": {
        "id": "hk7jIjAYm4cH",
        "colab_type": "code",
        "outputId": "7d957dd3-8a23-466b-fca1-2ef51b301c33",
        "colab": {
          "base_uri": "https://localhost:8080/",
          "height": 187
        }
      },
      "cell_type": "code",
      "source": [
        "X_train_orig,Y_train_orig,X_test_orig,Y_test_org = read_dataset()\n",
        "\n",
        "X_train = X_train_orig/255\n",
        "X_test = X_test_orig/255\n",
        "\n",
        "Y_train = convert_to_one_hot(Y_train_orig,6)\n",
        "Y_test = convert_to_one_hot(Y_test_org,6)\n",
        "\n",
        "print (\"number of training examples = \" + str(X_train.shape[0]))\n",
        "print (\"number of test examples = \" + str(X_test.shape[0]))\n",
        "print (\"X_train shape: \" + str(X_train.shape))\n",
        "print (\"Y_train shape: \" + str(Y_train.shape))\n",
        "print (\"X_test shape: \" + str(X_test.shape))\n",
        "print (\"Y_test shape: \" + str(Y_test.shape))"
      ],
      "execution_count": 0,
      "outputs": [
        {
          "output_type": "stream",
          "text": [
            "(1080, 64, 64, 3)\n",
            "(1080,)\n",
            "(120, 64, 64, 3)\n",
            "(120,)\n",
            "number of training examples = 1080\n",
            "number of test examples = 120\n",
            "X_train shape: (1080, 64, 64, 3)\n",
            "Y_train shape: (1080, 6)\n",
            "X_test shape: (120, 64, 64, 3)\n",
            "Y_test shape: (120, 6)\n"
          ],
          "name": "stdout"
        }
      ]
    },
    {
      "metadata": {
        "id": "D2DKb8tNkJCm",
        "colab_type": "code",
        "colab": {}
      },
      "cell_type": "code",
      "source": [
        "def create_placeholders(n_H0, n_W0, n_C0, n_y):\n",
        "    \n",
        "    X = tf.placeholder(tf.float32, [None, n_H0, n_W0, n_C0])\n",
        "    Y = tf.placeholder(tf.float32, [None, n_y])\n",
        "\n",
        "    return X, Y"
      ],
      "execution_count": 0,
      "outputs": []
    },
    {
      "metadata": {
        "id": "2A2YfDsTkZ5u",
        "colab_type": "code",
        "colab": {}
      },
      "cell_type": "code",
      "source": [
        "def initialize_parameters():\n",
        "    \"\"\"\n",
        "    Initializes weight parameters to build a neural network \n",
        "    with tensorflow. The shapes are:\n",
        "                        W1 : [4, 4, 3, 8]\n",
        "                        W2 : [2, 2, 8, 16]\n",
        "    Returns:\n",
        "    parameters -- a dictionary of tensors containing W1, W2\n",
        "    \"\"\"\n",
        "    \n",
        "    tf.set_random_seed(1)\n",
        "        \n",
        "    W1 = tf.get_variable(\"W1\",[4,4,3,8],initializer=tf.contrib.layers.xavier_initializer(seed = 0))\n",
        "    W2 = tf.get_variable(\"W2\",[2,2,8,16],initializer=tf.contrib.layers.xavier_initializer(seed = 0))\n",
        "\n",
        "    parameters = {\"W1\": W1,\n",
        "                  \"W2\": W2}\n",
        "    \n",
        "    return parameters"
      ],
      "execution_count": 0,
      "outputs": []
    },
    {
      "metadata": {
        "id": "kech61dWknns",
        "colab_type": "text"
      },
      "cell_type": "markdown",
      "source": [
        "\n",
        "In detail, we will use the following parameters for all the steps:\n",
        "\n",
        " - Conv2D: stride 1, padding is \"SAME\"\n",
        " - ReLU\n",
        " - Max pool: Use an 8 by 8 filter size and an 8 by 8 stride, padding is \"SAME\"\n",
        " - Conv2D: stride 1, padding is \"SAME\"\n",
        " - ReLU\n",
        " - Max pool: Use a 4 by 4 filter size and a 4 by 4 stride, padding is \"SAME\"\n",
        " - Flatten the previous output.\n",
        " - FULLYCONNECTED (FC) layer: Apply a fully connected layer without an non-linear activation \n",
        "   function. Do not call the softmax here. This will result in 6 neurons in the output layer, \n",
        "   which then get passed later to a softmax. \n"
      ]
    },
    {
      "metadata": {
        "id": "x4lwtq_4kaDX",
        "colab_type": "code",
        "colab": {}
      },
      "cell_type": "code",
      "source": [
        "## Implement the forward propagation \n",
        "def forward_propagation(X, parameters):\n",
        "\n",
        "    \"\"\"\n",
        "    Implements the forward propagation for the model:\n",
        "    CONV2D -> RELU -> MAXPOOL -> CONV2D -> RELU -> MAXPOOL -> FLATTEN -> FULLYCONNECTED\n",
        "    \n",
        "    Arguments:\n",
        "    X -- input dataset placeholder, of shape (input size, number of examples)\n",
        "    parameters -- python dictionary containing your parameters \"W1\", \"W2\"\n",
        "                  the shapes are given in initialize_parameters\n",
        "\n",
        "    Returns:\n",
        "    Z3 -- the output of the last LINEAR unit\n",
        "    \"\"\"\n",
        "\n",
        "    # Retrieve the parameters from the dictionary \"parameters\" \n",
        "    W1 = parameters['W1']\n",
        "    W2 = parameters['W2']\n",
        "    \n",
        "    ## 1st layer\n",
        "    \n",
        "    # CONV2D: stride of 1, padding 'SAME'\n",
        "    Z1 = tf.nn.conv2d(X,W1, strides = [1,1,1,1], padding = 'SAME')\n",
        "    A1 = tf.nn.relu(Z1)\n",
        "    # MAXPOOL: window 8x8, stride 8, padding 'SAME'\n",
        "    P1 = tf.nn.max_pool(A1, ksize = [1,8,8,1], strides = [1,8,8,1], padding = 'SAME')\n",
        "    \n",
        "    ##2nd layer\n",
        "    \n",
        "    # CONV2D: filters W2, stride 1, padding 'SAME'\n",
        "    Z2 = tf.nn.conv2d(P1,W2, strides = [1,1,1,1], padding = 'SAME')\n",
        "    A2 = tf.nn.relu(Z2)\n",
        "    #MAXPOOL: window 4x4, stride 4, padding 'SAME'\n",
        "    P2 = tf.nn.max_pool(A2, ksize = [1,4,4,1], strides = [1,4,4,1], padding = 'SAME')\n",
        "    \n",
        "    # FLATTEN\n",
        "    P2 = tf.contrib.layers.flatten(P2)\n",
        "    \n",
        "    # FULLY-CONNECTED without non-linear activation function (not not call softmax).\n",
        "    # 6 neurons in output layer. Hint: one of the arguments should be \"activation_fn=None\" \n",
        "    Z3 = tf.contrib.layers.fully_connected(P2,6,activation_fn = None)\n",
        "    \n",
        "    return Z3\n",
        "    "
      ],
      "execution_count": 0,
      "outputs": []
    },
    {
      "metadata": {
        "id": "qhKdeHrwkaF6",
        "colab_type": "code",
        "colab": {}
      },
      "cell_type": "code",
      "source": [
        "def compute_cost(Z3, Y):\n",
        "    \"\"\"\n",
        "    Computes the cost\n",
        "    \n",
        "    Arguments:\n",
        "    Z3 -- output of forward propagation (output of the last LINEAR unit), of shape (6, number of examples)\n",
        "    Y -- \"true\" labels vector placeholder, same shape as Z3\n",
        "    \n",
        "    Returns:\n",
        "    cost - Tensor of the cost function\n",
        "    \"\"\"\n",
        "    \n",
        "    cost = tf.reduce_mean(tf.nn.softmax_cross_entropy_with_logits(logits=Z3,labels=Y))\n",
        "    return cost"
      ],
      "execution_count": 0,
      "outputs": []
    },
    {
      "metadata": {
        "id": "hyILUc37HIJn",
        "colab_type": "code",
        "colab": {}
      },
      "cell_type": "code",
      "source": [
        "### ===== For tensorboard display ================== ###\n",
        "\n",
        "    summary_path = './log'\n",
        "    with tf.name_scope('performance'):\n",
        "\n",
        "        ## Define the summaries\n",
        "        \n",
        "        # Whenever you need to record the loss, feed the mean loss to this placeholder\n",
        "        tf_loss = tf.placeholder(tf.float32, shape=None, name='loss_summary')\n",
        "        # Create a scalar summary object for the loss so it can be displayed\n",
        "        tf_loss_summary = tf.summary.scalar('loss', tf_loss)\n",
        "\n",
        "        tf_accuracy_train = tf.placeholder(tf.float32, shape=None, name='accuracy_summary_train')\n",
        "        # Create a scalar summary object for the accuracy so it can be displayed\n",
        "        tf_accuracy_summary_train = tf.summary.scalar('accuracy', tf_accuracy_train)\n",
        "\n",
        "        tf_accuracy_test = tf.placeholder(tf.float32, shape=None, name='accuracy_summary_test')\n",
        "        # Create a scalar summary object for the accuracy so it can be displayed\n",
        "        tf_accuracy_summary_test = tf.summary.scalar('accuracy', tf_accuracy_test)\n",
        "\n",
        "        # Merge all summaries together\n",
        "        performance_summaries = tf.summary.merge([tf_loss_summary, tf_accuracy_summary_train,tf_accuracy_summary_test])\n",
        "\n",
        "    ## =================================================== ##"
      ],
      "execution_count": 0,
      "outputs": []
    },
    {
      "metadata": {
        "id": "TDndF8KdkaQV",
        "colab_type": "code",
        "colab": {}
      },
      "cell_type": "code",
      "source": [
        "## Build the model\n",
        "def model(X_train, Y_train, X_test, Y_test, learning_rate = 0.009,\n",
        "          num_epochs = 100, minibatch_size = 64, print_cost = True):\n",
        "    \n",
        "    \n",
        "    (m, n_H0, n_W0, n_C0) = X_train.shape             \n",
        "    n_y = Y_train.shape[1]                            \n",
        "    costs = []\n",
        "    \n",
        "    #tf.set_random_seed(1)\n",
        "    #ops.reset_default_graph()                         # to be able to rerun the model without overwriting tf variables\n",
        "\n",
        "    X, Y = create_placeholders(64, 64, 3, 6)\n",
        "                                            \n",
        "    # Initialize parameters\n",
        "    parameters = initialize_parameters()\n",
        "    \n",
        "    # Forward propagation: Build the forward propagation in the tensorflow graph\n",
        "    Z3 = forward_propagation(X, parameters)\n",
        "    \n",
        "    # Cost function: Add cost function to tensorflow graph\n",
        "    cost = compute_cost(Z3, Y)\n",
        "\n",
        "    # Backpropagation: Define the tensorflow optimizer. Use an AdamOptimizer that minimizes the cost.    \n",
        "    optimizer = tf.train.AdamOptimizer(learning_rate = learning_rate).minimize(cost)\n",
        "    \n",
        "    # Initialize all the variables globally\n",
        "    init = tf.global_variables_initializer()\n",
        "    \n",
        "    # Start the session to compute the tensorflow graph\n",
        "    with tf.Session() as sess:\n",
        "        \n",
        "        # Run the initialization\n",
        "        sess.run(init)\n",
        "        \n",
        "        summ_writer = tf.summary.FileWriter(summary_path, sess.graph)\n",
        "        \n",
        "        # Do the training loop\n",
        "        for epoch in range(num_epochs):\n",
        "\n",
        "            minibatch_cost = 0.\n",
        "            num_minibatches = int(m / minibatch_size)\n",
        "            minibatches = random_mini_batches(X_train, Y_train, minibatch_size)\n",
        "\n",
        "            for minibatch in minibatches:\n",
        "\n",
        "                # Select a minibatch\n",
        "                (minibatch_X, minibatch_Y) = minibatch\n",
        "                # IMPORTANT: The line that runs the graph on a minibatch.\n",
        "                # Run the session to execute the optimizer and the cost, the feedict should contain a minibatch for (X,Y).\n",
        "                _ , temp_cost = sess.run([optimizer, cost], feed_dict={X: minibatch_X, Y: minibatch_Y})\n",
        "                \n",
        "                minibatch_cost += temp_cost / num_minibatches\n",
        "\n",
        "            # Calculate the correct predictions\n",
        "            correct_prediction = tf.equal(tf.argmax(Z3,1), tf.argmax(Y,1))\n",
        "            #Calculate accuracy on the test set\n",
        "            accuracy = tf.reduce_mean(tf.cast(correct_prediction, \"float\"))\n",
        "                \n",
        "            ## Calculate train and test accuracy\n",
        "            train_acc = accuracy.eval({X: X_train, Y: Y_train})\n",
        "            test_acc = accuracy.eval({X: X_test, Y: Y_test})\n",
        "            \n",
        "            ## ======== Display in tensorboard =========================\n",
        "\n",
        "            # Execute the summaries defined above\n",
        "            summ = sess.run(performance_summaries,feed_dict={tf_loss: minibatch_cost, tf_accuracy_train: train_acc,\n",
        "                                                             tf_accuracy_test:test_acc})\n",
        "\n",
        "            # Write the obtained summaries to the file, so it can be displayed in the TensorBoard\n",
        "            summ_writer.add_summary(summ, epoch)\n",
        "\n",
        "            ## ===========================================================\n",
        "            \n",
        "            \n",
        "            # Print the cost every epoch\n",
        "            print (\"Cost after epoch %i: %f\" % (epoch, minibatch_cost))\n",
        "            print(\"Train Accuracy:\", train_acc)\n",
        "            print(\"Test Accuracy:\", test_acc)\n",
        "            \n",
        "            if print_cost == True and epoch % 1 == 0:\n",
        "                costs.append(minibatch_cost)\n",
        "    \n",
        "        # plot the cost\n",
        "        plt.plot(np.squeeze(costs))\n",
        "        plt.ylabel('cost')\n",
        "        plt.xlabel('iterations (per tens)')\n",
        "        plt.title(\"Learning rate =\" + str(learning_rate))\n",
        "        plt.show()"
      ],
      "execution_count": 0,
      "outputs": []
    },
    {
      "metadata": {
        "id": "JedBd1uqdjEx",
        "colab_type": "code",
        "outputId": "5084a426-dd32-4d6a-8763-e86b14ff162a",
        "colab": {
          "base_uri": "https://localhost:8080/",
          "height": 1773
        }
      },
      "cell_type": "code",
      "source": [
        "model(X_train, Y_train, X_test, Y_test,learning_rate = 0.009,num_epochs = 100,\n",
        "      minibatch_size = 64)"
      ],
      "execution_count": 0,
      "outputs": [
        {
          "output_type": "stream",
          "text": [
            "\n",
            "WARNING: The TensorFlow contrib module will not be included in TensorFlow 2.0.\n",
            "For more information, please see:\n",
            "  * https://github.com/tensorflow/community/blob/master/rfcs/20180907-contrib-sunset.md\n",
            "  * https://github.com/tensorflow/addons\n",
            "If you depend on functionality not listed there, please file an issue.\n",
            "\n",
            "WARNING:tensorflow:From /usr/local/lib/python3.6/dist-packages/tensorflow/python/framework/op_def_library.py:263: colocate_with (from tensorflow.python.framework.ops) is deprecated and will be removed in a future version.\n",
            "Instructions for updating:\n",
            "Colocations handled automatically by placer.\n",
            "WARNING:tensorflow:From /usr/local/lib/python3.6/dist-packages/tensorflow/contrib/layers/python/layers/layers.py:1624: flatten (from tensorflow.python.layers.core) is deprecated and will be removed in a future version.\n",
            "Instructions for updating:\n",
            "Use keras.layers.flatten instead.\n",
            "WARNING:tensorflow:From <ipython-input-9-7b249a30b65b>:13: softmax_cross_entropy_with_logits (from tensorflow.python.ops.nn_ops) is deprecated and will be removed in a future version.\n",
            "Instructions for updating:\n",
            "\n",
            "Future major versions of TensorFlow will allow gradients to flow\n",
            "into the labels input on backprop by default.\n",
            "\n",
            "See `tf.nn.softmax_cross_entropy_with_logits_v2`.\n",
            "\n",
            "Cost after epoch 0: 1.915018\n",
            "Train Accuracy: 0.16666667\n",
            "Test Accuracy: 0.19166666\n",
            "Cost after epoch 5: 1.505126\n",
            "Train Accuracy: 0.46388888\n",
            "Test Accuracy: 0.39166668\n",
            "Cost after epoch 10: 0.986632\n",
            "Train Accuracy: 0.65092593\n",
            "Test Accuracy: 0.6333333\n",
            "Cost after epoch 15: 0.807965\n",
            "Train Accuracy: 0.75555557\n",
            "Test Accuracy: 0.7083333\n",
            "Cost after epoch 20: 0.714656\n",
            "Train Accuracy: 0.76574075\n",
            "Test Accuracy: 0.7416667\n",
            "Cost after epoch 25: 0.560836\n",
            "Train Accuracy: 0.8277778\n",
            "Test Accuracy: 0.7583333\n",
            "Cost after epoch 30: 0.546719\n",
            "Train Accuracy: 0.8388889\n",
            "Test Accuracy: 0.8\n",
            "Cost after epoch 35: 0.461712\n",
            "Train Accuracy: 0.87222224\n",
            "Test Accuracy: 0.7583333\n",
            "Cost after epoch 40: 0.386511\n",
            "Train Accuracy: 0.8472222\n",
            "Test Accuracy: 0.7916667\n",
            "Cost after epoch 45: 0.428842\n",
            "Train Accuracy: 0.8648148\n",
            "Test Accuracy: 0.81666666\n",
            "Cost after epoch 50: 0.360600\n",
            "Train Accuracy: 0.88148147\n",
            "Test Accuracy: 0.8\n",
            "Cost after epoch 55: 0.339865\n",
            "Train Accuracy: 0.9314815\n",
            "Test Accuracy: 0.8666667\n",
            "Cost after epoch 60: 0.306247\n",
            "Train Accuracy: 0.90092593\n",
            "Test Accuracy: 0.8333333\n",
            "Cost after epoch 65: 0.296007\n",
            "Train Accuracy: 0.92685187\n",
            "Test Accuracy: 0.825\n",
            "Cost after epoch 70: 0.283686\n",
            "Train Accuracy: 0.8962963\n",
            "Test Accuracy: 0.84166664\n",
            "Cost after epoch 75: 0.245849\n",
            "Train Accuracy: 0.94166666\n",
            "Test Accuracy: 0.8666667\n",
            "Cost after epoch 80: 0.216995\n",
            "Train Accuracy: 0.94074076\n",
            "Test Accuracy: 0.875\n",
            "Cost after epoch 85: 0.236118\n",
            "Train Accuracy: 0.9259259\n",
            "Test Accuracy: 0.8333333\n",
            "Cost after epoch 90: 0.214650\n",
            "Train Accuracy: 0.9444444\n",
            "Test Accuracy: 0.84166664\n",
            "Cost after epoch 95: 0.233084\n",
            "Train Accuracy: 0.9175926\n",
            "Test Accuracy: 0.8333333\n"
          ],
          "name": "stdout"
        },
        {
          "output_type": "display_data",
          "data": {
            "image/png": "[encoded data removed]",
            "text/plain": [
              "<Figure size 576x396 with 1 Axes>"
            ]
          },
          "metadata": {
            "tags": []
          }
        }
      ]
    },
    {
      "metadata": {
        "id": "Abti4vGLohky",
        "colab_type": "code",
        "colab": {}
      },
      "cell_type": "code",
      "source": [
        ""
      ],
      "execution_count": 0,
      "outputs": []
    }
  ]
}