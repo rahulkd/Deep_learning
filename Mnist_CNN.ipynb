{
  "nbformat": 4,
  "nbformat_minor": 0,
  "metadata": {
    "colab": {
      "name": "Mnist_CNN",
      "version": "0.3.2",
      "provenance": [],
      "collapsed_sections": [],
      "include_colab_link": true
    },
    "kernelspec": {
      "name": "python3",
      "display_name": "Python 3"
    },
    "accelerator": "GPU"
  },
  "cells": [
    {
      "cell_type": "markdown",
      "metadata": {
        "id": "view-in-github",
        "colab_type": "text"
      },
      "source": [
        "<a href=\"https://colab.research.google.com/github/rahulkd/Deep_learning/blob/master/Mnist_CNN.ipynb\" target=\"_parent\"><img src=\"https://colab.research.google.com/assets/colab-badge.svg\" alt=\"Open In Colab\"/></a>"
      ]
    },
    {
      "metadata": {
        "id": "kIZB4kEOp4w4",
        "colab_type": "code",
        "outputId": "7cdfb919-4f84-4758-a692-09aa01987076",
        "colab": {
          "base_uri": "https://localhost:8080/",
          "height": 272
        }
      },
      "cell_type": "code",
      "source": [
        "!wget https://bin.equinox.io/c/4VmDzA7iaHb/ngrok-stable-linux-amd64.zip\n",
        "!unzip ngrok-stable-linux-amd64.zip\n",
        "\n",
        "LOG_DIR = './log'\n",
        "get_ipython().system_raw(\n",
        "    'tensorboard --logdir {} --host 0.0.0.0 --port 6006 &'\n",
        "    .format(LOG_DIR)\n",
        ")\n",
        "\n",
        "get_ipython().system_raw('./ngrok http 6006 &')\n",
        "! curl -s http://localhost:4040/api/tunnels | python3 -c \\\n",
        "    \"import sys, json; print(json.load(sys.stdin)['tunnels'][0]['public_url'])\""
      ],
      "execution_count": 0,
      "outputs": [
        {
          "output_type": "stream",
          "text": [
            "--2019-03-18 19:01:27--  https://bin.equinox.io/c/4VmDzA7iaHb/ngrok-stable-linux-amd64.zip\n",
            "Resolving bin.equinox.io (bin.equinox.io)... 52.200.123.104, 52.201.75.180, 52.203.53.176, ...\n",
            "Connecting to bin.equinox.io (bin.equinox.io)|52.200.123.104|:443... connected.\n",
            "HTTP request sent, awaiting response... 200 OK\n",
            "Length: 14910739 (14M) [application/octet-stream]\n",
            "Saving to: ‘ngrok-stable-linux-amd64.zip.1’\n",
            "\n",
            "ngrok-stable-linux- 100%[===================>]  14.22M  7.13MB/s    in 2.0s    \n",
            "\n",
            "2019-03-18 19:01:29 (7.13 MB/s) - ‘ngrok-stable-linux-amd64.zip.1’ saved [14910739/14910739]\n",
            "\n",
            "Archive:  ngrok-stable-linux-amd64.zip\n",
            "replace ngrok? [y]es, [n]o, [A]ll, [N]one, [r]ename: yes\n",
            "  inflating: ngrok                   \n",
            "http://59c11377.ngrok.io\n"
          ],
          "name": "stdout"
        }
      ]
    },
    {
      "metadata": {
        "id": "C6IJ9mt7LCMY",
        "colab_type": "code",
        "colab": {}
      },
      "cell_type": "code",
      "source": [
        "import h5py\n",
        "import tensorflow as tf\n",
        "import matplotlib.pyplot as plt\n",
        "import numpy as np\n",
        "import math"
      ],
      "execution_count": 0,
      "outputs": []
    },
    {
      "metadata": {
        "id": "seUPPLo08ywM",
        "colab_type": "code",
        "outputId": "3fd40212-4b9b-4205-e1e3-75ca86ecb4ce",
        "colab": {
          "base_uri": "https://localhost:8080/",
          "height": 34
        }
      },
      "cell_type": "code",
      "source": [
        "device_name = tf.test.gpu_device_name()\n",
        "if device_name != '/device:GPU:0':\n",
        "  raise SystemError('GPU device not found')\n",
        "print('Found GPU at: {}'.format(device_name))"
      ],
      "execution_count": 0,
      "outputs": [
        {
          "output_type": "stream",
          "text": [
            "Found GPU at: /device:GPU:0\n"
          ],
          "name": "stdout"
        }
      ]
    },
    {
      "metadata": {
        "id": "9WxpjAkwxqTu",
        "colab_type": "code",
        "colab": {}
      },
      "cell_type": "code",
      "source": [
        "def read_dataset():\n",
        "  \n",
        "  (x_train_orig, y_train_orig), (x_test_orig, y_test_orig) = tf.keras.datasets.mnist.load_data()\n",
        "  return (x_train_orig,y_train_orig,x_test_orig,y_test_orig)"
      ],
      "execution_count": 0,
      "outputs": []
    },
    {
      "metadata": {
        "id": "PGI0TBec-pZK",
        "colab_type": "code",
        "colab": {}
      },
      "cell_type": "code",
      "source": [
        "def convert_to_one_hot(labels,C):\n",
        "\n",
        "    #C = tf.constant(C)\n",
        "    one_hot_matrix = tf.one_hot(labels, C, axis=1)\n",
        "\n",
        "    # Create the session\n",
        "    sess = tf.Session()\n",
        "    # Run the session\n",
        "    one_hot = sess.run(one_hot_matrix)\n",
        "    sess.close()\n",
        "\n",
        "    return one_hot"
      ],
      "execution_count": 0,
      "outputs": []
    },
    {
      "metadata": {
        "id": "IIP42WGw-H6K",
        "colab_type": "code",
        "outputId": "ab3e3204-f542-438e-8a2b-781c448b495b",
        "colab": {
          "base_uri": "https://localhost:8080/",
          "height": 466
        }
      },
      "cell_type": "code",
      "source": [
        "X_train_orig,Y_train_orig,X_test_orig,Y_test_org = read_dataset()\n",
        "\n",
        "image_index = 1000 # You may select anything up to 60,000\n",
        "print(Y_train_orig[image_index]) # The label is 8\n",
        "plt.imshow(X_train_orig[image_index], cmap='Greys')\n",
        "\n",
        "X_train_orig = X_train_orig.reshape(X_train_orig.shape[0],28,28,1)\n",
        "X_test_orig = X_test_orig.reshape(X_test_orig.shape[0],28,28,1)\n",
        "\n",
        "X_train = X_train_orig/255\n",
        "X_test = X_test_orig/255\n",
        "\n",
        "Y_train = convert_to_one_hot(Y_train_orig,10)\n",
        "Y_test = convert_to_one_hot(Y_test_org,10)\n",
        "\n",
        "print (\"number of training examples = \" + str(X_train.shape[0]))\n",
        "print (\"number of test examples = \" + str(X_test.shape[0]))\n",
        "print (\"X_train shape: \" + str(X_train.shape))\n",
        "print (\"Y_train shape: \" + str(Y_train.shape))\n",
        "print (\"X_test shape: \" + str(X_test.shape))\n",
        "print (\"Y_test shape: \" + str(Y_test.shape))"
      ],
      "execution_count": 0,
      "outputs": [
        {
          "output_type": "stream",
          "text": [
            "0\n",
            "number of training examples = 60000\n",
            "number of test examples = 10000\n",
            "X_train shape: (60000, 28, 28, 1)\n",
            "Y_train shape: (60000, 10)\n",
            "X_test shape: (10000, 28, 28, 1)\n",
            "Y_test shape: (10000, 10)\n"
          ],
          "name": "stdout"
        },
        {
          "output_type": "display_data",
          "data": {
            "image/png": "[encoded data removed]",
            "text/plain": [
              "<Figure size 576x396 with 1 Axes>"
            ]
          },
          "metadata": {
            "tags": []
          }
        }
      ]
    },
    {
      "metadata": {
        "id": "CBnFQXBCyqgG",
        "colab_type": "code",
        "colab": {}
      },
      "cell_type": "code",
      "source": [
        "def random_mini_batches(X, Y, mini_batch_size):\n",
        "    \n",
        "    m = X.shape[0]                # number of training examples\n",
        "    mini_batches = []\n",
        "    #np.random.seed(seed)\n",
        "    \n",
        "    # Step 1: Shuffle (X, Y)\n",
        "    permutation = list(np.random.permutation(m))\n",
        "    shuffled_X = X[permutation,:]\n",
        "    shuffled_Y = Y[permutation,:]\n",
        "\n",
        "    # Step 2: Partition (shuffled_X, shuffled_Y). Minus the end case.\n",
        "    num_complete_minibatches = math.floor(m/mini_batch_size)\n",
        "    # number of mini batches of size mini_batch_size in your partitionning\n",
        "    for k in range(0, num_complete_minibatches):\n",
        "        mini_batch_X = shuffled_X[k * mini_batch_size : k * mini_batch_size + mini_batch_size,:]\n",
        "        mini_batch_Y = shuffled_Y[k * mini_batch_size : k * mini_batch_size + mini_batch_size,:]\n",
        "        mini_batch = (mini_batch_X, mini_batch_Y)\n",
        "        mini_batches.append(mini_batch)\n",
        "    \n",
        "    # Handling the end case (last mini-batch < mini_batch_size)\n",
        "    if m % mini_batch_size != 0:\n",
        "        mini_batch_X = shuffled_X[num_complete_minibatches * mini_batch_size : m,:]\n",
        "        mini_batch_Y = shuffled_Y[num_complete_minibatches * mini_batch_size : m,:]\n",
        "        mini_batch = (mini_batch_X, mini_batch_Y)\n",
        "        mini_batches.append(mini_batch)\n",
        "    \n",
        "    return mini_batches"
      ],
      "execution_count": 0,
      "outputs": []
    },
    {
      "metadata": {
        "id": "NoDC9XDp0NuH",
        "colab_type": "code",
        "colab": {}
      },
      "cell_type": "code",
      "source": [
        "def create_placeholders(n_H0, n_W0, n_C0, n_y):\n",
        "    \n",
        "    X = tf.placeholder(tf.float32, [None, n_H0, n_W0, n_C0])\n",
        "    Y = tf.placeholder(tf.float32, [None, n_y])\n",
        "\n",
        "    return X, Y"
      ],
      "execution_count": 0,
      "outputs": []
    },
    {
      "metadata": {
        "id": "d-qwGCPc0N4O",
        "colab_type": "code",
        "colab": {}
      },
      "cell_type": "code",
      "source": [
        "def initialize_parameters():\n",
        "    \"\"\"\n",
        "    Initializes weight parameters to build a neural network \n",
        "    with tensorflow. The shapes are:\n",
        "                        W1 : [4, 4, 1, 8]\n",
        "                        W2 : [2, 2, 8, 16]\n",
        "    Returns:\n",
        "    parameters -- a dictionary of tensors containing W1, W2\n",
        "    \"\"\"\n",
        "    \n",
        "    tf.set_random_seed(1)\n",
        "        \n",
        "    W1 = tf.get_variable(\"W1\",[4,4,1,8],initializer=tf.contrib.layers.xavier_initializer(seed = 0))\n",
        "    W2 = tf.get_variable(\"W2\",[2,2,8,16],initializer=tf.contrib.layers.xavier_initializer(seed = 0))\n",
        "\n",
        "    parameters = {\"W1\": W1,\n",
        "                  \"W2\": W2}\n",
        "    \n",
        "    return parameters"
      ],
      "execution_count": 0,
      "outputs": []
    },
    {
      "metadata": {
        "id": "1J5pFiLA0N6U",
        "colab_type": "code",
        "colab": {}
      },
      "cell_type": "code",
      "source": [
        "## Implement the forward propagation \n",
        "def forward_propagation(X, parameters,keep_prob):\n",
        "\n",
        "    \"\"\"\n",
        "    Implements the forward propagation for the model:\n",
        "    CONV2D -> RELU -> MAXPOOL -> CONV2D -> RELU -> MAXPOOL -> FLATTEN -> FULLYCONNECTED\n",
        "    \n",
        "    Arguments:\n",
        "    X -- input dataset placeholder, of shape (input size, number of examples)\n",
        "    parameters -- python dictionary containing your parameters \"W1\", \"W2\"\n",
        "                  the shapes are given in initialize_parameters\n",
        "\n",
        "    Returns:\n",
        "    Z3 -- the output of the last LINEAR unit\n",
        "    \"\"\"\n",
        "\n",
        "    # Retrieve the parameters from the dictionary \"parameters\" \n",
        "    W1 = parameters['W1']\n",
        "    W2 = parameters['W2']\n",
        "    \n",
        "    ## 1st layer\n",
        "    \n",
        "    # CONV2D: stride of 1, padding 'SAME'\n",
        "    Z1 = tf.nn.conv2d(X,W1, strides = [1,1,1,1], padding = 'SAME')\n",
        "    A1 = tf.nn.relu(Z1)\n",
        "    # MAXPOOL: window 2x2, stride 2, padding 'SAME'\n",
        "    P1 = tf.nn.max_pool(A1, ksize = [1,2,2,1], strides = [1,2,2,1], padding = 'SAME')\n",
        "    \n",
        "    ##2nd layer\n",
        "    \n",
        "    # CONV2D: filters W2, stride 1, padding 'SAME'\n",
        "    Z2 = tf.nn.conv2d(P1,W2, strides = [1,1,1,1], padding = 'SAME')\n",
        "    A2 = tf.nn.relu(Z2)\n",
        "    #MAXPOOL: window 2X2, stride 2, padding 'SAME'\n",
        "    P2 = tf.nn.max_pool(A2, ksize = [1,2,2,1], strides = [1,2,2,1], padding = 'SAME')\n",
        "    \n",
        "    # FLATTEN\n",
        "    P2_flatten = tf.contrib.layers.flatten(P2)\n",
        "    \n",
        "    FC1 = tf.contrib.layers.fully_connected(P2_flatten,128,activation_fn=tf.nn.relu)\n",
        "    layer_drop = tf.nn.dropout(FC1, keep_prob)\n",
        "    \n",
        "    # FULLY-CONNECTED without non-linear activation function (not not call softmax).\n",
        "    # 6 neurons in output layer. Hint: one of the arguments should be \"activation_fn=None\" \n",
        "    output_layer = tf.contrib.layers.fully_connected(FC1,10,activation_fn = None)\n",
        "    \n",
        "    return output_layer"
      ],
      "execution_count": 0,
      "outputs": []
    },
    {
      "metadata": {
        "id": "BXltwx8t0N-j",
        "colab_type": "code",
        "colab": {}
      },
      "cell_type": "code",
      "source": [
        "def compute_cost(Z3, Y):\n",
        "    \"\"\"\n",
        "    Computes the cost\n",
        "    \n",
        "    Arguments:\n",
        "    Z3 -- output of forward propagation (output of the last LINEAR unit), of shape (6, number of examples)\n",
        "    Y -- \"true\" labels vector placeholder, same shape as Z3\n",
        "    \n",
        "    Returns:\n",
        "    cost - Tensor of the cost function\n",
        "    \"\"\"\n",
        "    \n",
        "    cost = tf.reduce_mean(tf.nn.softmax_cross_entropy_with_logits(logits=Z3,labels=Y))\n",
        "    return cost"
      ],
      "execution_count": 0,
      "outputs": []
    },
    {
      "metadata": {
        "id": "hDDB1kY8Iz5D",
        "colab_type": "code",
        "colab": {}
      },
      "cell_type": "code",
      "source": [
        "### ===== For tensorboard display ================== ###\n",
        "\n",
        "summary_path = './log'\n",
        "with tf.name_scope('performance'):\n",
        "\n",
        "  ## Define the summaries\n",
        "        \n",
        "  # Whenever you need to record the loss, feed the mean loss to this placeholder\n",
        "  tf_loss = tf.placeholder(tf.float32, shape=None, name='loss_summary')\n",
        "  # Create a scalar summary object for the loss so it can be displayed\n",
        "  tf_loss_summary = tf.summary.scalar('loss', tf_loss)\n",
        "\n",
        "  tf_accuracy_train = tf.placeholder(tf.float32, shape=None, name='accuracy_summary_train')\n",
        "  # Create a scalar summary object for the accuracy so it can be displayed\n",
        "  tf_accuracy_summary_train = tf.summary.scalar('accuracy', tf_accuracy_train)\n",
        "\n",
        "  tf_accuracy_test = tf.placeholder(tf.float32, shape=None, name='accuracy_summary_test')\n",
        "  # Create a scalar summary object for the accuracy so it can be displayed\n",
        "  tf_accuracy_summary_test = tf.summary.scalar('accuracy', tf_accuracy_test)\n",
        "\n",
        "  # Merge all summaries together\n",
        "  performance_summaries = tf.summary.merge([tf_loss_summary, tf_accuracy_summary_train,tf_accuracy_summary_test])\n",
        "\n",
        "  ## =================================================== ##"
      ],
      "execution_count": 0,
      "outputs": []
    },
    {
      "metadata": {
        "id": "T-SgVJOH0OBC",
        "colab_type": "code",
        "colab": {}
      },
      "cell_type": "code",
      "source": [
        "## Build the model\n",
        "def model(X_train, Y_train, X_test, Y_test, learning_rate,num_epochs, minibatch_size, print_cost = True):\n",
        "    \n",
        "    \n",
        "    (m, n_H0, n_W0, n_C0) = X_train.shape             \n",
        "    n_y = Y_train.shape[1]                            \n",
        "    costs = []\n",
        "\n",
        "    X, Y = create_placeholders(28, 28, 1, 10)\n",
        "    keep_prob = tf.placeholder(tf.float32)\n",
        "                                            \n",
        "    # Initialize parameters\n",
        "    parameters = initialize_parameters()\n",
        "    \n",
        "    # Forward propagation: Build the forward propagation in the tensorflow graph\n",
        "    output_layer = forward_propagation(X, parameters,keep_prob)\n",
        "    \n",
        "    # Cost function: Add cost function to tensorflow graph\n",
        "    cost = compute_cost(output_layer, Y)\n",
        "\n",
        "    # Backpropagation: Define the tensorflow optimizer. Use an AdamOptimizer that minimizes the cost.    \n",
        "    optimizer = tf.train.AdamOptimizer(learning_rate = learning_rate).minimize(cost)\n",
        "    \n",
        "    # Initialize all the variables globally\n",
        "    init = tf.global_variables_initializer()\n",
        "    \n",
        "    # Start the session to compute the tensorflow graph\n",
        "    with tf.Session() as sess:\n",
        "        \n",
        "        # Run the initialization\n",
        "        sess.run(init)\n",
        "        \n",
        "        summ_writer = tf.summary.FileWriter(summary_path, sess.graph)\n",
        "        \n",
        "        # Do the training loop\n",
        "        for epoch in range(num_epochs):\n",
        "\n",
        "            minibatch_cost = 0.\n",
        "            num_minibatches = int(m / minibatch_size)\n",
        "            minibatches = random_mini_batches(X_train, Y_train, minibatch_size)\n",
        "\n",
        "            for minibatch in minibatches:\n",
        "\n",
        "                # Select a minibatch\n",
        "                (minibatch_X, minibatch_Y) = minibatch\n",
        "                # IMPORTANT: The line that runs the graph on a minibatch.\n",
        "                # Run the session to execute the optimizer and the cost, the feedict should contain a minibatch for (X,Y).\n",
        "                _ , temp_cost = sess.run([optimizer, cost], feed_dict={X: minibatch_X, Y: minibatch_Y,keep_prob:1.0})\n",
        "                \n",
        "                minibatch_cost += temp_cost / num_minibatches\n",
        "\n",
        "            # Calculate the correct predictions\n",
        "            correct_prediction = tf.equal(tf.argmax(output_layer,axis=1), tf.argmax(Y,axis=1))\n",
        "            #Calculate accuracy on the test set\n",
        "            accuracy = tf.reduce_mean(tf.cast(correct_prediction, \"float\"))\n",
        "            \n",
        "            ## Calculate train and test accuracy\n",
        "            train_acc = accuracy.eval({X: X_train, Y: Y_train,keep_prob:1.0})\n",
        "            test_acc = accuracy.eval({X: X_test, Y: Y_test,keep_prob:1.0})\n",
        "            \n",
        "            ## ======== Display in tensorboard =========================\n",
        "\n",
        "            # Execute the summaries defined above\n",
        "            summ = sess.run(performance_summaries,feed_dict={tf_loss: minibatch_cost, tf_accuracy_train: train_acc,\n",
        "                                                             tf_accuracy_test:test_acc})\n",
        "\n",
        "            # Write the obtained summaries to the file, so it can be displayed in the TensorBoard\n",
        "            summ_writer.add_summary(summ, epoch)\n",
        "\n",
        "            ## ===========================================================\n",
        "                \n",
        "\n",
        "            # Print the cost every epoch\n",
        "            print (\"Cost after epoch %i: %f\" % (epoch, minibatch_cost))\n",
        "            print(\"Train Accuracy:\", train_acc)\n",
        "            print(\"Test Accuracy:\", test_acc)\n",
        "            \n",
        "            if print_cost == True and epoch % 1 == 0:\n",
        "                costs.append(minibatch_cost)\n",
        "    \n",
        "        # plot the cost\n",
        "        plt.plot(np.squeeze(costs))\n",
        "        plt.ylabel('cost')\n",
        "        plt.xlabel('iterations (per tens)')\n",
        "        plt.title(\"Learning rate =\" + str(learning_rate))\n",
        "        plt.show()"
      ],
      "execution_count": 0,
      "outputs": []
    },
    {
      "metadata": {
        "id": "SeQokJYs0N8v",
        "colab_type": "code",
        "outputId": "eadaba3e-daa7-42fd-e33c-bd2c7f13a9b2",
        "colab": {
          "base_uri": "https://localhost:8080/",
          "height": 2079
        }
      },
      "cell_type": "code",
      "source": [
        "model(X_train, Y_train, X_test, Y_test,learning_rate = 0.0001,num_epochs = 25,\n",
        "      minibatch_size = 64)"
      ],
      "execution_count": 0,
      "outputs": [
        {
          "output_type": "stream",
          "text": [
            "\n",
            "WARNING: The TensorFlow contrib module will not be included in TensorFlow 2.0.\n",
            "For more information, please see:\n",
            "  * https://github.com/tensorflow/community/blob/master/rfcs/20180907-contrib-sunset.md\n",
            "  * https://github.com/tensorflow/addons\n",
            "If you depend on functionality not listed there, please file an issue.\n",
            "\n",
            "WARNING:tensorflow:From /usr/local/lib/python3.6/dist-packages/tensorflow/python/framework/op_def_library.py:263: colocate_with (from tensorflow.python.framework.ops) is deprecated and will be removed in a future version.\n",
            "Instructions for updating:\n",
            "Colocations handled automatically by placer.\n",
            "WARNING:tensorflow:From /usr/local/lib/python3.6/dist-packages/tensorflow/contrib/layers/python/layers/layers.py:1624: flatten (from tensorflow.python.layers.core) is deprecated and will be removed in a future version.\n",
            "Instructions for updating:\n",
            "Use keras.layers.flatten instead.\n",
            "WARNING:tensorflow:From <ipython-input-9-0b87c5c3d214>:40: calling dropout (from tensorflow.python.ops.nn_ops) with keep_prob is deprecated and will be removed in a future version.\n",
            "Instructions for updating:\n",
            "Please use `rate` instead of `keep_prob`. Rate should be set to `rate = 1 - keep_prob`.\n",
            "WARNING:tensorflow:From <ipython-input-10-7b249a30b65b>:13: softmax_cross_entropy_with_logits (from tensorflow.python.ops.nn_ops) is deprecated and will be removed in a future version.\n",
            "Instructions for updating:\n",
            "\n",
            "Future major versions of TensorFlow will allow gradients to flow\n",
            "into the labels input on backprop by default.\n",
            "\n",
            "See `tf.nn.softmax_cross_entropy_with_logits_v2`.\n",
            "\n",
            "Cost after epoch 0: 0.732197\n",
            "Train Accuracy: 0.9241167\n",
            "Test Accuracy: 0.9253\n",
            "Cost after epoch 1: 0.214339\n",
            "Train Accuracy: 0.9497667\n",
            "Test Accuracy: 0.951\n",
            "Cost after epoch 2: 0.152029\n",
            "Train Accuracy: 0.95991665\n",
            "Test Accuracy: 0.9634\n",
            "Cost after epoch 3: 0.120596\n",
            "Train Accuracy: 0.96758336\n",
            "Test Accuracy: 0.9688\n",
            "Cost after epoch 4: 0.101056\n",
            "Train Accuracy: 0.97335\n",
            "Test Accuracy: 0.9725\n",
            "Cost after epoch 5: 0.087959\n",
            "Train Accuracy: 0.9763333\n",
            "Test Accuracy: 0.9753\n",
            "Cost after epoch 6: 0.077853\n",
            "Train Accuracy: 0.9788167\n",
            "Test Accuracy: 0.9775\n",
            "Cost after epoch 7: 0.070873\n",
            "Train Accuracy: 0.98043334\n",
            "Test Accuracy: 0.9793\n",
            "Cost after epoch 8: 0.065122\n",
            "Train Accuracy: 0.98195\n",
            "Test Accuracy: 0.98\n",
            "Cost after epoch 9: 0.060610\n",
            "Train Accuracy: 0.9841667\n",
            "Test Accuracy: 0.9808\n",
            "Cost after epoch 10: 0.056653\n",
            "Train Accuracy: 0.98473334\n",
            "Test Accuracy: 0.9822\n",
            "Cost after epoch 11: 0.052929\n",
            "Train Accuracy: 0.98475\n",
            "Test Accuracy: 0.9809\n",
            "Cost after epoch 12: 0.049902\n",
            "Train Accuracy: 0.98675\n",
            "Test Accuracy: 0.9816\n",
            "Cost after epoch 13: 0.046893\n",
            "Train Accuracy: 0.9864333\n",
            "Test Accuracy: 0.9833\n",
            "Cost after epoch 14: 0.044980\n",
            "Train Accuracy: 0.98798335\n",
            "Test Accuracy: 0.9857\n",
            "Cost after epoch 15: 0.042676\n",
            "Train Accuracy: 0.989\n",
            "Test Accuracy: 0.9848\n",
            "Cost after epoch 16: 0.040173\n",
            "Train Accuracy: 0.9888167\n",
            "Test Accuracy: 0.9848\n",
            "Cost after epoch 17: 0.038880\n",
            "Train Accuracy: 0.99001664\n",
            "Test Accuracy: 0.9857\n",
            "Cost after epoch 18: 0.037129\n",
            "Train Accuracy: 0.9902833\n",
            "Test Accuracy: 0.9859\n",
            "Cost after epoch 19: 0.035418\n",
            "Train Accuracy: 0.9911\n",
            "Test Accuracy: 0.9865\n",
            "Cost after epoch 20: 0.033858\n",
            "Train Accuracy: 0.9903333\n",
            "Test Accuracy: 0.9848\n",
            "Cost after epoch 21: 0.032711\n",
            "Train Accuracy: 0.99128336\n",
            "Test Accuracy: 0.9867\n",
            "Cost after epoch 22: 0.031530\n",
            "Train Accuracy: 0.99193335\n",
            "Test Accuracy: 0.9867\n",
            "Cost after epoch 23: 0.029862\n",
            "Train Accuracy: 0.9915\n",
            "Test Accuracy: 0.9863\n",
            "Cost after epoch 24: 0.028414\n",
            "Train Accuracy: 0.9917667\n",
            "Test Accuracy: 0.9854\n"
          ],
          "name": "stdout"
        },
        {
          "output_type": "display_data",
          "data": {
            "image/png": "[encoded data removed]",
            "text/plain": [
              "<Figure size 576x396 with 1 Axes>"
            ]
          },
          "metadata": {
            "tags": []
          }
        }
      ]
    }
  ]
}