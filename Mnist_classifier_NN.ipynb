{
  "nbformat": 4,
  "nbformat_minor": 0,
  "metadata": {
    "colab": {
      "name": "Mnist_classifier_NN.ipynb",
      "version": "0.3.2",
      "provenance": [],
      "collapsed_sections": [],
      "include_colab_link": true
    },
    "kernelspec": {
      "name": "python3",
      "display_name": "Python 3"
    },
    "accelerator": "GPU"
  },
  "cells": [
    {
      "cell_type": "markdown",
      "metadata": {
        "id": "view-in-github",
        "colab_type": "text"
      },
      "source": [
        "<a href=\"https://colab.research.google.com/github/rahulkd/Deep_learning/blob/master/Mnist_classifier_NN.ipynb\" target=\"_parent\"><img src=\"https://colab.research.google.com/assets/colab-badge.svg\" alt=\"Open In Colab\"/></a>"
      ]
    },
    {
      "metadata": {
        "id": "sPUNMAkUEgnv",
        "colab_type": "code",
        "outputId": "9bdd05b5-08e9-4ee6-ae15-3c7a98c3fe33",
        "colab": {
          "base_uri": "https://localhost:8080/",
          "height": 411
        }
      },
      "cell_type": "code",
      "source": [
        "import tensorflow as tf\n",
        "import numpy as np\n",
        "import matplotlib.pyplot as plt\n",
        "\n",
        "from tensorflow.examples.tutorials.mnist import input_data\n",
        "mnist = input_data.read_data_sets(\"MNIST_data/\", one_hot=True)"
      ],
      "execution_count": 0,
      "outputs": [
        {
          "output_type": "stream",
          "text": [
            "WARNING:tensorflow:From <ipython-input-1-e84776f1a167>:6: read_data_sets (from tensorflow.contrib.learn.python.learn.datasets.mnist) is deprecated and will be removed in a future version.\n",
            "Instructions for updating:\n",
            "Please use alternatives such as official/mnist/dataset.py from tensorflow/models.\n",
            "WARNING:tensorflow:From /usr/local/lib/python3.6/dist-packages/tensorflow/contrib/learn/python/learn/datasets/mnist.py:260: maybe_download (from tensorflow.contrib.learn.python.learn.datasets.base) is deprecated and will be removed in a future version.\n",
            "Instructions for updating:\n",
            "Please write your own downloading logic.\n",
            "WARNING:tensorflow:From /usr/local/lib/python3.6/dist-packages/tensorflow/contrib/learn/python/learn/datasets/mnist.py:262: extract_images (from tensorflow.contrib.learn.python.learn.datasets.mnist) is deprecated and will be removed in a future version.\n",
            "Instructions for updating:\n",
            "Please use tf.data to implement this functionality.\n",
            "Extracting MNIST_data/train-images-idx3-ubyte.gz\n",
            "WARNING:tensorflow:From /usr/local/lib/python3.6/dist-packages/tensorflow/contrib/learn/python/learn/datasets/mnist.py:267: extract_labels (from tensorflow.contrib.learn.python.learn.datasets.mnist) is deprecated and will be removed in a future version.\n",
            "Instructions for updating:\n",
            "Please use tf.data to implement this functionality.\n",
            "Extracting MNIST_data/train-labels-idx1-ubyte.gz\n",
            "WARNING:tensorflow:From /usr/local/lib/python3.6/dist-packages/tensorflow/contrib/learn/python/learn/datasets/mnist.py:110: dense_to_one_hot (from tensorflow.contrib.learn.python.learn.datasets.mnist) is deprecated and will be removed in a future version.\n",
            "Instructions for updating:\n",
            "Please use tf.one_hot on tensors.\n",
            "Extracting MNIST_data/t10k-images-idx3-ubyte.gz\n",
            "Extracting MNIST_data/t10k-labels-idx1-ubyte.gz\n",
            "WARNING:tensorflow:From /usr/local/lib/python3.6/dist-packages/tensorflow/contrib/learn/python/learn/datasets/mnist.py:290: DataSet.__init__ (from tensorflow.contrib.learn.python.learn.datasets.mnist) is deprecated and will be removed in a future version.\n",
            "Instructions for updating:\n",
            "Please use alternatives such as official/mnist/dataset.py from tensorflow/models.\n"
          ],
          "name": "stdout"
        }
      ]
    },
    {
      "metadata": {
        "id": "aQhSSmJDiYT-",
        "colab_type": "code",
        "outputId": "820e3108-a906-42d4-ab8d-8583bdf24b96",
        "colab": {
          "base_uri": "https://localhost:8080/",
          "height": 34
        }
      },
      "cell_type": "code",
      "source": [
        "device_name = tf.test.gpu_device_name()\n",
        "if device_name != '/device:GPU:0':\n",
        "  raise SystemError('GPU device not found')\n",
        "print('Found GPU at: {}'.format(device_name))"
      ],
      "execution_count": 0,
      "outputs": [
        {
          "output_type": "stream",
          "text": [
            "Found GPU at: /device:GPU:0\n"
          ],
          "name": "stdout"
        }
      ]
    },
    {
      "metadata": {
        "id": "ZbykI3IqIQ6k",
        "colab_type": "code",
        "outputId": "100066ca-03bc-49c5-e8d8-79177521be9f",
        "colab": {
          "base_uri": "https://localhost:8080/",
          "height": 170
        }
      },
      "cell_type": "code",
      "source": [
        "n_train = mnist.train.num_examples \n",
        "n_validation = mnist.validation.num_examples \n",
        "n_test = mnist.test.num_examples\n",
        "\n",
        "print(\"Training_examples: \",n_train)\n",
        "print(\"Validation_examples: \",n_validation)\n",
        "print(\"Test examples: \",n_test)\n",
        "\n",
        "n_x = mnist.train.images.shape[1]\n",
        "n_y = mnist.train.labels.shape[1]\n",
        "\n",
        "print(\"Training_data shape: \",mnist.train.images.shape)\n",
        "print(\"Training_labels shape: \",mnist.train.labels.shape)\n",
        "\n",
        "print(\"Validation_data shape: \",mnist.validation.images.shape)\n",
        "print(\"valiation_labels shape: \",mnist.validation.labels.shape)\n",
        "\n",
        "print(\"Test_data shape: \",mnist.test.images.shape)\n",
        "print(\"Test_labels shape: \",mnist.test.labels.shape)"
      ],
      "execution_count": 0,
      "outputs": [
        {
          "output_type": "stream",
          "text": [
            "Training_examples:  55000\n",
            "Validation_examples:  5000\n",
            "Test examples:  10000\n",
            "Training_data shape:  (55000, 784)\n",
            "Training_labels shape:  (55000, 10)\n",
            "Validation_data shape:  (5000, 784)\n",
            "valiation_labels shape:  (5000, 10)\n",
            "Test_data shape:  (10000, 784)\n",
            "Test_labels shape:  (10000, 10)\n"
          ],
          "name": "stdout"
        }
      ]
    },
    {
      "metadata": {
        "id": "yR-55s36Wako",
        "colab_type": "code",
        "colab": {}
      },
      "cell_type": "code",
      "source": [
        "n_input = 784   # input layer (28x28 pixels)\n",
        "n_hidden1 = 512 # 1st hidden layer\n",
        "n_hidden2 = 256 # 2nd hidden layer\n",
        "n_hidden3 = 128 # 3rd hidden layer\n",
        "n_output = 10   # output layer (0-9 digits)\n",
        "\n",
        "layers_NN = [n_input,n_hidden1,n_hidden2,n_hidden3,n_output]"
      ],
      "execution_count": 0,
      "outputs": []
    },
    {
      "metadata": {
        "id": "u3SvR8syHQVp",
        "colab_type": "code",
        "colab": {}
      },
      "cell_type": "code",
      "source": [
        "def initialize_parameters():\n",
        "    \n",
        "    tf.set_random_seed(1)\n",
        "    '''\n",
        "    weights = {\n",
        "    'W1': tf.Variable(tf.truncated_normal([n_input, n_hidden1], stddev=0.1)),\n",
        "    'W2': tf.Variable(tf.truncated_normal([n_hidden1, n_hidden2], stddev=0.1)),\n",
        "    'W3': tf.Variable(tf.truncated_normal([n_hidden2, n_hidden3], stddev=0.1)),\n",
        "    'out': tf.Variable(tf.truncated_normal([n_hidden3, n_output], stddev=0.1)),\n",
        "}\n",
        "    \n",
        "    biases = {\n",
        "    'b1': tf.Variable(tf.constant(0.1, shape=[n_hidden1])),\n",
        "    'b2': tf.Variable(tf.constant(0.1, shape=[n_hidden2])),\n",
        "    'b3': tf.Variable(tf.constant(0.1, shape=[n_hidden3])),\n",
        "    'out': tf.Variable(tf.constant(0.1, shape=[n_output]))\n",
        "}\n",
        "    '''\n",
        "    \n",
        "    weights = {\n",
        "    'W1': tf.get_variable('W1',[n_input,n_hidden1],initializer=tf.contrib.layers.xavier_initializer(seed=0)),\n",
        "    'W2': tf.get_variable('W2',[n_hidden1,n_hidden2],initializer=tf.contrib.layers.xavier_initializer(seed=0)),\n",
        "    'W3': tf.get_variable('W3',[n_hidden2,n_hidden3],initializer=tf.contrib.layers.xavier_initializer(seed=0)),\n",
        "    'out':tf.get_variable('W4',[n_hidden3,n_output],initializer=tf.contrib.layers.xavier_initializer(seed=0)),\n",
        "}\n",
        "    \n",
        "    biases = {\n",
        "    'b1': tf.get_variable(\"b1\", [1,n_hidden1], initializer=tf.zeros_initializer()),\n",
        "    'b2': tf.get_variable(\"b2\", [1,n_hidden2], initializer=tf.zeros_initializer()),\n",
        "    'b3': tf.get_variable(\"b3\", [1,n_hidden3], initializer=tf.zeros_initializer()),\n",
        "    'out':tf.get_variable(\"b4\", [1,n_output], initializer=tf.zeros_initializer())\n",
        "}\n",
        "    \n",
        "    parameters = {'weights': weights,\n",
        "                  'biases' : biases\n",
        "                 }\n",
        "    \n",
        "    \n",
        "    return parameters "
      ],
      "execution_count": 0,
      "outputs": []
    },
    {
      "metadata": {
        "id": "cp436PRtdgBa",
        "colab_type": "code",
        "colab": {}
      },
      "cell_type": "code",
      "source": [
        "def forward_propagation(X,parameters,keep_prob):\n",
        "    \n",
        "    weights = parameters['weights']\n",
        "    biases = parameters['biases']\n",
        "    \n",
        "    Z1 = tf.add(tf.matmul(X, weights['W1']), biases['b1'])\n",
        "    A1 = tf.nn.relu(Z1)\n",
        "    Z2 = tf.add(tf.matmul(A1, weights['W2']), biases['b2'])\n",
        "    A2 = tf.nn.relu(Z2)\n",
        "    Z3 = tf.add(tf.matmul(A2, weights['W3']), biases['b3'])\n",
        "    A3 = tf.nn.relu(Z3)\n",
        "    layer_drop = tf.nn.dropout(A3, keep_prob)\n",
        "    output_layer = tf.matmul(layer_drop, weights['out']) + biases['out']\n",
        "\n",
        "    return output_layer"
      ],
      "execution_count": 0,
      "outputs": []
    },
    {
      "metadata": {
        "id": "v6eTbwR0ev3Z",
        "colab_type": "code",
        "colab": {}
      },
      "cell_type": "code",
      "source": [
        "def compute_cost(output_layer, Y,parameters,lambd):\n",
        "    \n",
        "    weights = parameters['weights']\n",
        "    biases = parameters['biases']\n",
        "    \n",
        "    cost = tf.reduce_mean(tf.nn.softmax_cross_entropy_with_logits(logits=output_layer, labels=Y))\n",
        "    # Compute L2 loss\n",
        "    #reg = tf.nn.l2_loss(weights['W1'])+tf.nn.l2_loss(weights['W2'])+tf.nn.l2_loss(weights['W3']+tf.nn.l2_loss(weights['out'])\n",
        "    #cost = tf.reduce_mean(cost+reg*lambd)\n",
        "    return cost"
      ],
      "execution_count": 0,
      "outputs": []
    },
    {
      "metadata": {
        "id": "Dl8GRnPWiZo8",
        "colab_type": "code",
        "colab": {}
      },
      "cell_type": "code",
      "source": [
        "def model(learning_rate,num_epochs, minibatch_size,L2_lambd, print_cost=True):\n",
        "    \n",
        "    m = n_train\n",
        "    costs = []  # To keep track of the cost\n",
        "    \n",
        "    #tf.set_random_seed(1)\n",
        "    \n",
        "    # Create Placeholders of shape (n_x, n_y)\n",
        "    X = tf.placeholder(tf.float32, shape=(None,n_x))\n",
        "    Y = tf.placeholder(tf.float32, shape=(None,n_y))\n",
        "    keep_prob = tf.placeholder(tf.float32)\n",
        "\n",
        "    # Initialize parameters\n",
        "    parameters = initialize_parameters()\n",
        "\n",
        "    # Forward propagation: Build the forward propagation in the tensorflow graph\n",
        "    output_layer = forward_propagation(X, parameters,keep_prob)\n",
        "\n",
        "    # Cost function: Add cost function to tensorflow graph\n",
        "    cost = compute_cost(output_layer, Y,parameters,L2_lambd)\n",
        "\n",
        "    # Backpropagation: Define the tensorflow optimizer. Use an AdamOptimizer.\n",
        "    optimizer = tf.train.AdamOptimizer(learning_rate=learning_rate).minimize(cost)\n",
        "\n",
        "    # Initialize all the variables\n",
        "    init = tf.global_variables_initializer()\n",
        "\n",
        "    # Start the session to compute the tensorflow graph\n",
        "    with tf.Session() as sess:\n",
        "        \n",
        "        # Run the initialization\n",
        "        sess.run(init)\n",
        "\n",
        "        # Do the training loop\n",
        "        for epoch in range(num_epochs):\n",
        "\n",
        "            minibatches_cost = []\n",
        "            num_minibatches = m//minibatch_size\n",
        "            for i in range(num_minibatches):\n",
        "              \n",
        "              minibatch_X,minibatch_Y = mnist.train.next_batch(minibatch_size)    # Get one batch of training data\n",
        "              \n",
        "              # Run the session to execute the \"optimizer\" and the \"cost\", the feedict should contain a minibatch for (X,Y).\n",
        "              _, minibatch_cost = sess.run([optimizer, cost], feed_dict={X: minibatch_X, Y: minibatch_Y,keep_prob:0.5})\n",
        "              minibatches_cost.append(minibatch_cost)\n",
        "              \n",
        "              \n",
        "            epoch_cost = np.mean(minibatches_cost)\n",
        "            \n",
        "            # Calculate the correct predictions\n",
        "            correct_prediction = tf.equal(tf.argmax(output_layer,axis=1), tf.argmax(Y,axis=1))\n",
        "            # Calculate accuracy on the test set\n",
        "            accuracy = tf.reduce_mean(tf.cast(correct_prediction, \"float\"))\n",
        "\n",
        "            # Print the cost every epoch\n",
        "            print(\"Cost after epoch %i: %f\" % (epoch, epoch_cost))\n",
        "            \n",
        "            ## Train_accuracy ##\n",
        "            X_train = mnist.train.images\n",
        "            Y_train = mnist.train.labels\n",
        "            print(\"Train Accuracy:\", accuracy.eval({X: X_train, Y: Y_train,keep_prob:1.0}))\n",
        "            \n",
        "            ## Validation accuracy ##\n",
        "            X_valid = mnist.validation.images\n",
        "            Y_valid = mnist.validation.labels\n",
        "            print(\"Valid Accuracy:\", accuracy.eval({X: X_valid, Y: Y_valid,keep_prob:1.0}))\n",
        "\n",
        "            if print_cost == True and epoch % 5 == 0:\n",
        "                costs.append(epoch_cost)\n",
        "\n",
        "        \n",
        "        ## Test accuracy ##\n",
        "        X_test = mnist.test.images\n",
        "        Y_test = mnist.test.labels\n",
        "        print(\"Test Accuracy:\", accuracy.eval({X: X_test, Y: Y_test,keep_prob:1.0}))\n",
        "        \n",
        "        # plot the cost\n",
        "        plt.plot(np.squeeze(costs))\n",
        "        plt.ylabel('cost')\n",
        "        plt.xlabel('iterations (per tens)')\n",
        "        plt.title(\"Learning rate =\" + str(learning_rate))\n",
        "        plt.show()\n",
        "\n",
        "        # lets save the parameters in a variable\n",
        "        parameters = sess.run(parameters)\n",
        "        print(\"Parameters have been trained!\")\n",
        "\n",
        "        return parameters"
      ],
      "execution_count": 0,
      "outputs": []
    },
    {
      "metadata": {
        "id": "Ny94pMI3bQ-K",
        "colab_type": "code",
        "outputId": "faf8b48e-09ea-48eb-a277-2237a5568a98",
        "colab": {
          "base_uri": "https://localhost:8080/",
          "height": 1943
        }
      },
      "cell_type": "code",
      "source": [
        "\n",
        "parameters = model(learning_rate=0.0001,num_epochs=25,minibatch_size=128,L2_lambd=0) #0.01"
      ],
      "execution_count": 0,
      "outputs": [
        {
          "output_type": "stream",
          "text": [
            "WARNING:tensorflow:From /usr/local/lib/python3.6/dist-packages/tensorflow/python/framework/op_def_library.py:263: colocate_with (from tensorflow.python.framework.ops) is deprecated and will be removed in a future version.\n",
            "Instructions for updating:\n",
            "Colocations handled automatically by placer.\n",
            "WARNING:tensorflow:From <ipython-input-6-15ede22fe7e5>:12: calling dropout (from tensorflow.python.ops.nn_ops) with keep_prob is deprecated and will be removed in a future version.\n",
            "Instructions for updating:\n",
            "Please use `rate` instead of `keep_prob`. Rate should be set to `rate = 1 - keep_prob`.\n",
            "WARNING:tensorflow:From <ipython-input-7-59de6ae42ade>:6: softmax_cross_entropy_with_logits (from tensorflow.python.ops.nn_ops) is deprecated and will be removed in a future version.\n",
            "Instructions for updating:\n",
            "\n",
            "Future major versions of TensorFlow will allow gradients to flow\n",
            "into the labels input on backprop by default.\n",
            "\n",
            "See `tf.nn.softmax_cross_entropy_with_logits_v2`.\n",
            "\n",
            "Cost after epoch 0: 0.794815\n",
            "Train Accuracy: 0.92218184\n",
            "Valid Accuracy: 0.9256\n",
            "Cost after epoch 1: 0.298768\n",
            "Train Accuracy: 0.94567275\n",
            "Valid Accuracy: 0.9472\n",
            "Cost after epoch 2: 0.219895\n",
            "Train Accuracy: 0.9576909\n",
            "Valid Accuracy: 0.9586\n",
            "Cost after epoch 3: 0.177764\n",
            "Train Accuracy: 0.96590906\n",
            "Valid Accuracy: 0.9638\n",
            "Cost after epoch 4: 0.148508\n",
            "Train Accuracy: 0.9717818\n",
            "Valid Accuracy: 0.969\n",
            "Cost after epoch 5: 0.125575\n",
            "Train Accuracy: 0.97636366\n",
            "Valid Accuracy: 0.9718\n",
            "Cost after epoch 6: 0.111097\n",
            "Train Accuracy: 0.97947276\n",
            "Valid Accuracy: 0.9744\n",
            "Cost after epoch 7: 0.096308\n",
            "Train Accuracy: 0.98218185\n",
            "Valid Accuracy: 0.9726\n",
            "Cost after epoch 8: 0.085105\n",
            "Train Accuracy: 0.9840364\n",
            "Valid Accuracy: 0.976\n",
            "Cost after epoch 9: 0.073184\n",
            "Train Accuracy: 0.98767275\n",
            "Valid Accuracy: 0.9788\n",
            "Cost after epoch 10: 0.066441\n",
            "Train Accuracy: 0.98932725\n",
            "Valid Accuracy: 0.9782\n",
            "Cost after epoch 11: 0.058105\n",
            "Train Accuracy: 0.9901636\n",
            "Valid Accuracy: 0.9796\n",
            "Cost after epoch 12: 0.053673\n",
            "Train Accuracy: 0.9917455\n",
            "Valid Accuracy: 0.98\n",
            "Cost after epoch 13: 0.045144\n",
            "Train Accuracy: 0.99363637\n",
            "Valid Accuracy: 0.9818\n",
            "Cost after epoch 14: 0.042636\n",
            "Train Accuracy: 0.9940364\n",
            "Valid Accuracy: 0.983\n",
            "Cost after epoch 15: 0.038314\n",
            "Train Accuracy: 0.99536365\n",
            "Valid Accuracy: 0.983\n",
            "Cost after epoch 16: 0.032977\n",
            "Train Accuracy: 0.9951636\n",
            "Valid Accuracy: 0.9816\n",
            "Cost after epoch 17: 0.030681\n",
            "Train Accuracy: 0.99701816\n",
            "Valid Accuracy: 0.9826\n",
            "Cost after epoch 18: 0.024990\n",
            "Train Accuracy: 0.9973636\n",
            "Valid Accuracy: 0.983\n",
            "Cost after epoch 19: 0.024505\n",
            "Train Accuracy: 0.9972909\n",
            "Valid Accuracy: 0.9824\n",
            "Cost after epoch 20: 0.020805\n",
            "Train Accuracy: 0.9981273\n",
            "Valid Accuracy: 0.9838\n",
            "Cost after epoch 21: 0.019274\n",
            "Train Accuracy: 0.9984364\n",
            "Valid Accuracy: 0.9842\n",
            "Cost after epoch 22: 0.017247\n",
            "Train Accuracy: 0.99905455\n",
            "Valid Accuracy: 0.9828\n",
            "Cost after epoch 23: 0.015735\n",
            "Train Accuracy: 0.99905455\n",
            "Valid Accuracy: 0.982\n",
            "Cost after epoch 24: 0.012498\n",
            "Train Accuracy: 0.99921817\n",
            "Valid Accuracy: 0.9828\n",
            "Test Accuracy: 0.9828\n"
          ],
          "name": "stdout"
        },
        {
          "output_type": "display_data",
          "data": {
            "image/png": "[encoded data removed]",
            "text/plain": [
              "<Figure size 576x396 with 1 Axes>"
            ]
          },
          "metadata": {
            "tags": []
          }
        },
        {
          "output_type": "stream",
          "text": [
            "Parameters have been trained!\n"
          ],
          "name": "stdout"
        }
      ]
    }
  ]
}